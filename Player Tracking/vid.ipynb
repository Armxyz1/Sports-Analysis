{
 "cells": [
  {
   "cell_type": "code",
   "execution_count": 1,
   "metadata": {},
   "outputs": [],
   "source": [
    "import cv2\n",
    "import numpy as np\n",
    "from tqdm import tqdm\n",
    "import matplotlib.pyplot as plt"
   ]
  },
  {
   "cell_type": "code",
   "execution_count": 19,
   "metadata": {},
   "outputs": [],
   "source": [
    "# Create a video of images in ./saves\n",
    "# The video will be saved as ./out.mp4\n",
    "# The images are named as 1.png,.., 153.png\n",
    "\n",
    "\n",
    "def create_video():\n",
    "    img_array = []\n",
    "    for i in tqdm(range(1, 154)):\n",
    "        filename = f\"./saves/{i}.png\"\n",
    "        img = cv2.imread(filename)\n",
    "        height, width, layers = img.shape\n",
    "        size = (width, height)\n",
    "        img_array.append(img)\n",
    "\n",
    "    out = cv2.VideoWriter('out.mp4', cv2.VideoWriter_fourcc(*'mp4v'), 20, size)\n",
    "\n",
    "    for i in range(len(img_array)):\n",
    "        out.write(img_array[i])\n",
    "    out.release()"
   ]
  },
  {
   "cell_type": "code",
   "execution_count": 20,
   "metadata": {},
   "outputs": [
    {
     "name": "stderr",
     "output_type": "stream",
     "text": [
      "100%|██████████| 153/153 [00:00<00:00, 615.06it/s]\n"
     ]
    }
   ],
   "source": [
    "create_video()"
   ]
  },
  {
   "cell_type": "code",
   "execution_count": 3,
   "metadata": {},
   "outputs": [],
   "source": [
    "lines_coords = [[[0., 54.16, 0.], [16.5, 54.16, 0.]],\n",
    "                [[16.5, 13.84, 0.], [16.5, 54.16, 0.]],\n",
    "                [[16.5, 13.84, 0.], [0., 13.84, 0.]],\n",
    "                [[88.5, 54.16, 0.], [105., 54.16, 0.]],\n",
    "                [[88.5, 13.84, 0.], [88.5, 54.16, 0.]],\n",
    "                [[88.5, 13.84, 0.], [105., 13.84, 0.]],\n",
    "                [[0., 37.66, -2.44], [0., 30.34, -2.44]],\n",
    "                [[0., 37.66, 0.], [0., 37.66, -2.44]],\n",
    "                [[0., 30.34, 0.], [0., 30.34, -2.44]],\n",
    "                [[105., 37.66, -2.44], [105., 30.34, -2.44]],\n",
    "                [[105., 30.34, 0.], [105., 30.34, -2.44]],\n",
    "                [[105., 37.66, 0.], [105., 37.66, -2.44]],\n",
    "                [[52.5, 0., 0.], [52.5, 68, 0.]],\n",
    "                [[0., 68., 0.], [105., 68., 0.]],\n",
    "                [[0., 0., 0.], [0., 68., 0.]],\n",
    "                [[105., 0., 0.], [105., 68., 0.]],\n",
    "                [[0., 0., 0.], [105., 0., 0.]],\n",
    "                [[0., 43.16, 0.], [5.5, 43.16, 0.]],\n",
    "                [[5.5, 43.16, 0.], [5.5, 24.84, 0.]],\n",
    "                [[5.5, 24.84, 0.], [0., 24.84, 0.]],\n",
    "                [[99.5, 43.16, 0.], [105., 43.16, 0.]],\n",
    "                [[99.5, 43.16, 0.], [99.5, 24.84, 0.]],\n",
    "                [[99.5, 24.84, 0.], [105., 24.84, 0.]]]"
   ]
  },
  {
   "cell_type": "code",
   "execution_count": 8,
   "metadata": {},
   "outputs": [
    {
     "data": {
      "image/png": "[encoded data removed]",
      "text/plain": [
       "<Figure size 640x480 with 1 Axes>"
      ]
     },
     "metadata": {},
     "output_type": "display_data"
    }
   ],
   "source": [
    "fig, ax = plt.subplots()\n",
    "\n",
    "for line in lines_coords:\n",
    "    x1, y1, _ = line[0]\n",
    "    x2, y2, _ = line[1]\n",
    "\n",
    "    ax.plot([x1, x2], [y1, y2], 'white', lw=3)\n",
    "\n",
    "ax.add_artist(plt.Circle((105/2, 68/2), 9.15, color='white', fill=False, lw=3))\n",
    "\n",
    "points_l = []\n",
    "for ang in np.linspace(219, 321, 200):\n",
    "    ang = np.deg2rad(ang)\n",
    "    point = [94 + 9.15*np.sin(ang), 68/2 + 9.15*np.cos(ang)]\n",
    "    # Plot the arc\n",
    "    points_l.append(point)\n",
    "ax.plot([x for x, _ in points_l], [y for _, y in points_l], 'white', lw=3)\n",
    "\n",
    "points_r = []\n",
    "for ang in np.linspace(39, 141, 200):\n",
    "    ang = np.deg2rad(ang)\n",
    "    point = [11 + 9.15*np.sin(ang), 68/2 + 9.15*np.cos(ang)]\n",
    "    # Plot the arc\n",
    "    points_r.append(point)\n",
    "ax.plot([x for x, _ in points_r], [y for _, y in points_r], 'white', lw=3)\n",
    "\n",
    "\n",
    "ax.set_xlim(0, 105)\n",
    "ax.set_ylim(0, 68)\n",
    "ax.invert_yaxis()\n",
    "ax.axis('off')\n",
    "plt.tight_layout(pad=0)\n",
    "fig.patch.set_facecolor('darkgreen')\n",
    "\n"
   ]
  },
  {
   "cell_type": "code",
   "execution_count": 13,
   "metadata": {},
   "outputs": [
    {
     "name": "stdout",
     "output_type": "stream",
     "text": [
      "640 480\n"
     ]
    },
    {
     "name": "stderr",
     "output_type": "stream",
     "text": [
      "/tmp/ipykernel_31046/1111100875.py:4: MatplotlibDeprecationWarning: The tostring_rgb function was deprecated in Matplotlib 3.8 and will be removed in 3.10. Use buffer_rgba instead.\n",
      "  buf = np.frombuffer(fig.canvas.tostring_rgb(), dtype=np.uint8)\n"
     ]
    },
    {
     "data": {
      "text/plain": [
       "True"
      ]
     },
     "execution_count": 13,
     "metadata": {},
     "output_type": "execute_result"
    }
   ],
   "source": [
    "fig.canvas.draw()\n",
    "w, h = fig.canvas.get_width_height()\n",
    "print(w, h)\n",
    "buf = np.frombuffer(fig.canvas.tostring_rgb(), dtype=np.uint8)\n",
    "buf.shape = (h, w, 3)\n",
    "buf = np.flipud(buf)\n",
    "cv2.imwrite('field.png', buf)"
   ]
  }
 ],
 "metadata": {
  "kernelspec": {
   "display_name": "temp",
   "language": "python",
   "name": "python3"
  },
  "language_info": {
   "codemirror_mode": {
    "name": "ipython",
    "version": 3
   },
   "file_extension": ".py",
   "mimetype": "text/x-python",
   "name": "python",
   "nbconvert_exporter": "python",
   "pygments_lexer": "ipython3",
   "version": "3.12.7"
  }
 },
 "nbformat": 4,
 "nbformat_minor": 2
}
