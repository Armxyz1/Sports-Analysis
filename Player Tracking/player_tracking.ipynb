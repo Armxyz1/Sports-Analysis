{
 "cells": [
  {
   "cell_type": "code",
   "execution_count": 29,
   "metadata": {},
   "outputs": [],
   "source": [
    "import os\n",
    "import cv2\n",
    "import shutil\n",
    "import random\n",
    "import subprocess as sp\n",
    "import supervision as sv\n",
    "\n",
    "from tqdm import tqdm\n",
    "from ultralytics import YOLO\n",
    "from SoccerNet.Downloader import SoccerNetDownloader"
   ]
  },
  {
   "cell_type": "code",
   "execution_count": 4,
   "metadata": {},
   "outputs": [
    {
     "name": "stderr",
     "output_type": "stream",
     "text": [
      "Downloading data/tracking/train.zip...: : 9.58GiB [24:12, 6.59MiB/s]                           \n",
      "Downloading data/tracking/test.zip...: : 8.71GiB [19:20, 7.51MiB/s]                           \n"
     ]
    }
   ],
   "source": [
    "# mySoccerNetDownloader = SoccerNetDownloader(LocalDirectory=\"datasets/\")\n",
    "# mySoccerNetDownloader.password = \"s0cc3rn3t\"\n",
    "\n",
    "# mySoccerNetDownloader.downloadDataTask(task=\"tracking\", split=[\"train\", \"test\"])"
   ]
  },
  {
   "cell_type": "code",
   "execution_count": 2,
   "metadata": {},
   "outputs": [],
   "source": [
    "train_path = '/home/adityapg/work/Sports-Analysis/datasets/train'\n",
    "test_path = '/home/adityapg/work/Sports-Analysis/datasets/test'\n",
    "images_path = '/home/adityapg/work/Sports-Analysis/datasets/images'\n",
    "labels_path = '/home/adityapg/work/Sports-Analysis/datasets/labels'\n",
    "\n",
    "config_path = '/home/adityapg/work/Sports-Analysis/Player Tracking/config.yaml'\n",
    "model_path = '/home/adityapg/work/Sports-Analysis/models/yolov10m.pt'\n",
    "finetune_path = '/home/adityapg/work/Sports-Analysis/Player Tracking/runs/detect/train/weights/best.pt'"
   ]
  },
  {
   "cell_type": "code",
   "execution_count": 4,
   "metadata": {},
   "outputs": [],
   "source": [
    "def convert(box, width, height):\n",
    "    x, y, w, h = box\n",
    "    x, w = x / width, w / width\n",
    "    y, h = y / height, h / height\n",
    "\n",
    "    bbox = [x + w/2, y + h/2, w, h]\n",
    "    return bbox"
   ]
  },
  {
   "cell_type": "code",
   "execution_count": 5,
   "metadata": {},
   "outputs": [],
   "source": [
    "def make_labels(train_path):\n",
    "    for name in os.listdir(train_path):\n",
    "        for file in os.listdir(f'{train_path}/{name}/img1'):\n",
    "            os.rename(f'{train_path}/{name}/img1/{file}', f'{train_path}/{name}/img1/{name}_{file}')\n",
    "\n",
    "    for name in os.listdir(train_path):\n",
    "        label_path = f'{train_path}/{name}/labels'    \n",
    "        \n",
    "        if os.path.exists(label_path):\n",
    "            shutil.rmtree(label_path)\n",
    "        os.makedirs(label_path)\n",
    "\n",
    "        width, height = 1, 1\n",
    "        with open(f'{train_path}/{name}/seqinfo.ini', 'r') as file:\n",
    "            data = file.readlines()\n",
    "            for line in data:\n",
    "                if 'imWidth' in line:\n",
    "                    width = eval(line.split('=')[1])\n",
    "                elif 'imHeight' in line:\n",
    "                    height = eval(line.split('=')[1])\n",
    "\n",
    "        ball_ids = []\n",
    "        goalkeeper_ids = []\n",
    "        referee_ids = []\n",
    "        with open(f'{train_path}/{name}/gameinfo.ini', 'r') as file:\n",
    "            data = file.readlines()\n",
    "            for line in data:\n",
    "                if 'ball' in line:\n",
    "                    ball_ids.append(eval(line.split('=')[0].split('_')[1]))\n",
    "                if 'goalkeeper' in line:\n",
    "                    goalkeeper_ids.append(eval(line.split('=')[0].split('_')[1]))\n",
    "                if 'referee' in line:\n",
    "                    referee_ids.append(eval(line.split('=')[0].split('_')[1]))\n",
    "\n",
    "        with open(f'{train_path}/{name}/gt/gt.txt', 'r') as file:\n",
    "            data = file.readlines()\n",
    "            for line in data:\n",
    "                line = [eval(i) for i in line.split(',')]\n",
    "                bbox = convert(line[2:6], width, height)\n",
    "                \n",
    "                class_id = 1\n",
    "                if line[1] in ball_ids:\n",
    "                    class_id = 0\n",
    "                elif line[1] in goalkeeper_ids:\n",
    "                    class_id = 2\n",
    "                elif line[1] in referee_ids:\n",
    "                    class_id = 3\n",
    "\n",
    "                with open(f'{train_path}/{name}/labels/{name}_{line[0]:06d}.txt', 'a') as f:\n",
    "                    f.write(f'{class_id} {\" \".join([str(i) for i in bbox])}\\n')"
   ]
  },
  {
   "cell_type": "code",
   "execution_count": 6,
   "metadata": {},
   "outputs": [],
   "source": [
    "def split(train_path, images_path, labels_path):\n",
    "    if os.path.exists(images_path):\n",
    "        shutil.rmtree(images_path)\n",
    "    os.makedirs(images_path)\n",
    "\n",
    "    os.makedirs(f'{images_path}/train')\n",
    "    os.makedirs(f'{images_path}/val')\n",
    "\n",
    "    if os.path.exists(labels_path):\n",
    "        shutil.rmtree(labels_path)\n",
    "    os.makedirs(labels_path)\n",
    "\n",
    "    os.makedirs(f'{labels_path}/train')\n",
    "    os.makedirs(f'{labels_path}/val')\n",
    "\n",
    "    names = []\n",
    "    for name in os.listdir(train_path):\n",
    "        names.extend(os.listdir(f'{train_path}/{name}/img1'))\n",
    "\n",
    "    names = [name.split('.')[0] for name in names]\n",
    "    random.shuffle(names)\n",
    "    train = names[:int(0.8*len(names))]\n",
    "\n",
    "    for name in os.listdir(train_path):\n",
    "        img_path = f'{train_path}/{name}/img1'\n",
    "        label_path = f'{train_path}/{name}/labels'\n",
    "\n",
    "        for file in os.listdir(img_path):\n",
    "            file = file.split('.')[0]\n",
    "\n",
    "            if file in train:\n",
    "                shutil.copy(f'{img_path}/{file}.jpg', f'{images_path}/train/')\n",
    "                shutil.copy(f'{label_path}/{file}.txt', f'{labels_path}/train/')\n",
    "            else:\n",
    "                shutil.copy(f'{img_path}/{file}.jpg', f'{images_path}/val/')\n",
    "                shutil.copy(f'{label_path}/{file}.txt', f'{labels_path}/val/')"
   ]
  },
  {
   "cell_type": "code",
   "execution_count": 7,
   "metadata": {},
   "outputs": [],
   "source": [
    "make_labels(train_path)\n",
    "split(train_path, images_path, labels_path)"
   ]
  },
  {
   "cell_type": "code",
   "execution_count": null,
   "metadata": {},
   "outputs": [],
   "source": [
    "model = YOLO(model_path)\n",
    "model.train(data=config_path, epochs=5, batch=4, amp=False)"
   ]
  },
  {
   "cell_type": "code",
   "execution_count": 40,
   "metadata": {},
   "outputs": [],
   "source": [
    "def make_video(clip_path):\n",
    "    ffmpeg_path = 'ffmpeg'\n",
    "    command = [\n",
    "        ffmpeg_path,\n",
    "        '-i', f'{clip_path}/img1/%06d.jpg',\n",
    "        '-r', '25',\n",
    "        '-y',\n",
    "        '-v', 'quiet',\n",
    "        '-c:v', 'libx264',\n",
    "        f'{clip_path}/out.mp4'\n",
    "    ]\n",
    "    sp.run(command)\n",
    "\n",
    "def annotate_video(clip_path, confidence=0.3):\n",
    "    SOURCE_VIDEO_PATH = f'{clip_path}/out.mp4'\n",
    "    TARGET_VIDEO_PATH = f'{clip_path}/annotated.mp4'\n",
    "\n",
    "    box_annotator = sv.BoxAnnotator(\n",
    "        color=sv.ColorPalette.from_hex(['#FF8C00', '#00BFFF', '#FF1493', '#FFD700']),\n",
    "        thickness=2\n",
    "    )\n",
    "    label_annotator = sv.LabelAnnotator(\n",
    "        color=sv.ColorPalette.from_hex(['#FF8C00', '#00BFFF', '#FF1493', '#FFD700']),\n",
    "        text_color=sv.Color.from_hex('#000000')\n",
    "    )\n",
    "\n",
    "    video_info = sv.VideoInfo.from_video_path(SOURCE_VIDEO_PATH)\n",
    "    video_sink = sv.VideoSink(TARGET_VIDEO_PATH, video_info=video_info)\n",
    "\n",
    "    frame_generator = sv.get_video_frames_generator(SOURCE_VIDEO_PATH)\n",
    "\n",
    "    model = YOLO(finetune_path)\n",
    "    with video_sink:\n",
    "        for frame in tqdm(frame_generator, total=video_info.total_frames):\n",
    "            result = model(frame, conf=confidence, verbose=False)[0]\n",
    "            detections = sv.Detections.from_ultralytics(result)\n",
    "            annotated_frame = frame.copy()\n",
    "            annotated_frame = box_annotator.annotate(annotated_frame, detections)\n",
    "            annotated_frame = label_annotator.annotate(annotated_frame, detections)\n",
    "\n",
    "            video_sink.write_frame(annotated_frame)"
   ]
  },
  {
   "cell_type": "code",
   "execution_count": 41,
   "metadata": {},
   "outputs": [
    {
     "name": "stderr",
     "output_type": "stream",
     "text": [
      "100%|██████████| 750/750 [00:20<00:00, 37.28it/s]\n"
     ]
    }
   ],
   "source": [
    "clip_path = f'{test_path}/SNMOT-118'\n",
    "\n",
    "make_video(clip_path)\n",
    "annotate_video(clip_path)"
   ]
  }
 ],
 "metadata": {
  "kernelspec": {
   "display_name": "yolov10",
   "language": "python",
   "name": "python3"
  },
  "language_info": {
   "codemirror_mode": {
    "name": "ipython",
    "version": 3
   },
   "file_extension": ".py",
   "mimetype": "text/x-python",
   "name": "python",
   "nbconvert_exporter": "python",
   "pygments_lexer": "ipython3",
   "version": "3.9.20"
  }
 },
 "nbformat": 4,
 "nbformat_minor": 2
}
