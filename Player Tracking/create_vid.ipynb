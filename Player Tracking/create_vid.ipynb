{
 "cells": [
  {
   "cell_type": "code",
   "execution_count": 1,
   "metadata": {},
   "outputs": [],
   "source": [
    "import pickle\n",
    "import matplotlib.pyplot as plt\n",
    "import cv2\n",
    "import numpy as np"
   ]
  },
  {
   "cell_type": "code",
   "execution_count": 2,
   "metadata": {},
   "outputs": [
    {
     "data": {
      "text/plain": [
       "True"
      ]
     },
     "execution_count": 2,
     "metadata": {},
     "output_type": "execute_result"
    }
   ],
   "source": [
    "# perform frame interpolation for images in ./saves\n",
    "# and save the results in ./saves/interpolated\n",
    "for i in range(1, 153):\n",
    "    f1 = cv2.imread(f'./saves/{i}.png')\n",
    "    f2 = cv2.imread(f'./saves/{i+1}.png')\n",
    "\n",
    "    # Interpolate 5 frames between f1 and f2\n",
    "    for j in range(1, 6):\n",
    "        alpha = j\n",
    "        interpolated = cv2.addWeighted(f1, 1 - alpha, f2, alpha, 0)\n",
    "        cv2.imwrite(f'./saves/interpolated/{i}_{j}.png', interpolated)\n",
    "    \n",
    "    cv2.imwrite(f'./saves/interpolated/{i}_0.png', f1)\n",
    "cv2.imwrite(f'./saves/interpolated/153_0.png', f2)"
   ]
  },
  {
   "cell_type": "code",
   "execution_count": 14,
   "metadata": {},
   "outputs": [],
   "source": [
    "def create_video():\n",
    "    img_array = []\n",
    "    for i in range(1, 153):\n",
    "        for j in range(6):\n",
    "            filename = f\"./saves/interpolated/{i}_{j}.png\"\n",
    "            img = cv2.imread(filename)\n",
    "            height, width, layers = img.shape\n",
    "            size = (width, height)\n",
    "            img_array.append(img)\n",
    "    img = cv2.imread(f\"./saves/interpolated/153_0.png\")\n",
    "    out = cv2.VideoWriter('saves/interpolated/out.mp4', cv2.VideoWriter_fourcc(*'mp4v'), 30, size)\n",
    "\n",
    "    for i in range(len(img_array)):\n",
    "        out.write(img_array[i])\n",
    "    out.release()"
   ]
  },
  {
   "cell_type": "code",
   "execution_count": 15,
   "metadata": {},
   "outputs": [],
   "source": [
    "create_video()"
   ]
  }
 ],
 "metadata": {
  "kernelspec": {
   "display_name": "temp",
   "language": "python",
   "name": "python3"
  },
  "language_info": {
   "codemirror_mode": {
    "name": "ipython",
    "version": 3
   },
   "file_extension": ".py",
   "mimetype": "text/x-python",
   "name": "python",
   "nbconvert_exporter": "python",
   "pygments_lexer": "ipython3",
   "version": "3.12.7"
  }
 },
 "nbformat": 4,
 "nbformat_minor": 2
}
