{
 "cells": [
  {
   "cell_type": "code",
   "execution_count": 19,
   "metadata": {},
   "outputs": [],
   "source": [
    "import numpy as np\n",
    "import cv2\n",
    "import matplotlib.pyplot as plt\n",
    "from pathlib import Path\n",
    "from ultralytics import YOLO"
   ]
  },
  {
   "cell_type": "markdown",
   "metadata": {},
   "source": [
    "## Download the dataset\n",
    "We will be using the soccernet dataset on tracking. For more details visit: https://github.com/SoccerNet/sn-tracking?tab=readme-ov-file"
   ]
  },
  {
   "cell_type": "code",
   "execution_count": 20,
   "metadata": {},
   "outputs": [
    {
     "name": "stdout",
     "output_type": "stream",
     "text": [
      "path/to/SoccerNet/tracking/train.zip already exists\n",
      "path/to/SoccerNet/tracking/test.zip already exists\n",
      "path/to/SoccerNet/tracking/challenge.zip already exists\n"
     ]
    }
   ],
   "source": [
    "from SoccerNet.Downloader import SoccerNetDownloader\n",
    "mySoccerNetDownloader = SoccerNetDownloader(LocalDirectory=\"path/to/SoccerNet\")\n",
    "mySoccerNetDownloader.downloadDataTask(task=\"tracking\", split=[\"train\",\"test\",\"challenge\"])"
   ]
  },
  {
   "cell_type": "code",
   "execution_count": 21,
   "metadata": {},
   "outputs": [],
   "source": [
    "model = YOLO(\"yolov10n.pt\")"
   ]
  },
  {
   "cell_type": "code",
   "execution_count": 22,
   "metadata": {},
   "outputs": [],
   "source": [
    "## Source\n",
    "## The source is the path to the folder containing frames(photos) of the video. \n",
    "## So, Each folder\n",
    "## folder -> SNMOT-X --> img1 --> x.jpg is the format of the folder\n",
    "\n",
    "source = Path(\"/home/sahilc/Desktop/Soccer Analysis Project/train/SNMOT-060/img1\")\n",
    "output = Path(\"/home/sahilc/Desktop/Soccer Analysis Project/train_output/SNMOT-060\")\n",
    "output.mkdir(exist_ok=True)\n",
    "\n"
   ]
  },
  {
   "cell_type": "code",
   "execution_count": 29,
   "metadata": {},
   "outputs": [
    {
     "name": "stdout",
     "output_type": "stream",
     "text": [
      "\n",
      "image 1/1 /home/sahilc/Desktop/Soccer Analysis Project/train/SNMOT-169/img1/000001.jpg: 384x640 9 persons, 5.4ms\n",
      "Speed: 15.4ms preprocess, 5.4ms inference, 0.4ms postprocess per image at shape (1, 3, 384, 640)\n"
     ]
    },
    {
     "name": "stderr",
     "output_type": "stream",
     "text": [
      "/snap/core20/current/lib/x86_64-linux-gnu/libstdc++.so.6: version `GLIBCXX_3.4.29' not found (required by /lib/x86_64-linux-gnu/libproxy.so.1)\n",
      "Failed to load module: /home/sahilc/snap/code/common/.cache/gio-modules/libgiolibproxy.so\n"
     ]
    }
   ],
   "source": [
    "result = model(\"/home/sahilc/Desktop/Soccer Analysis Project/train/SNMOT-169/img1/000001.jpg\")\n",
    "result[0].show()"
   ]
  },
  {
   "cell_type": "code",
   "execution_count": 28,
   "metadata": {},
   "outputs": [
    {
     "name": "stdout",
     "output_type": "stream",
     "text": [
      "\n",
      "0: 384x640 16 persons, 5.6ms\n",
      "Speed: 17.6ms preprocess, 5.6ms inference, 0.6ms postprocess per image at shape (1, 3, 384, 640)\n"
     ]
    },
    {
     "ename": "TypeError",
     "evalue": "int() argument must be a string, a bytes-like object or a real number, not 'Results'",
     "output_type": "error",
     "traceback": [
      "\u001b[0;31m---------------------------------------------------------------------------\u001b[0m",
      "\u001b[0;31mTypeError\u001b[0m                                 Traceback (most recent call last)",
      "Cell \u001b[0;32mIn[28], line 12\u001b[0m\n\u001b[1;32m      9\u001b[0m \u001b[38;5;66;03m# Plot the bounding boxes on the image\u001b[39;00m\n\u001b[1;32m     10\u001b[0m \u001b[38;5;28;01mfor\u001b[39;00m detection \u001b[38;5;129;01min\u001b[39;00m results:\n\u001b[1;32m     11\u001b[0m     \u001b[38;5;66;03m# Each detection contains x1, y1, x2, y2, confidence, and class\u001b[39;00m\n\u001b[0;32m---> 12\u001b[0m     x1, y1, x2, y2, conf, \u001b[38;5;28mcls\u001b[39m \u001b[38;5;241m=\u001b[39m \u001b[38;5;28mmap\u001b[39m(\u001b[38;5;28mint\u001b[39m, detection[:\u001b[38;5;241m6\u001b[39m])\n\u001b[1;32m     13\u001b[0m     label \u001b[38;5;241m=\u001b[39m \u001b[38;5;124mf\u001b[39m\u001b[38;5;124m\"\u001b[39m\u001b[38;5;132;01m{\u001b[39;00mmodel\u001b[38;5;241m.\u001b[39mnames[\u001b[38;5;28mcls\u001b[39m]\u001b[38;5;132;01m}\u001b[39;00m\u001b[38;5;124m: \u001b[39m\u001b[38;5;132;01m{\u001b[39;00mconf\u001b[38;5;132;01m:\u001b[39;00m\u001b[38;5;124m.2f\u001b[39m\u001b[38;5;132;01m}\u001b[39;00m\u001b[38;5;124m\"\u001b[39m\n\u001b[1;32m     15\u001b[0m     \u001b[38;5;66;03m# Draw bounding box\u001b[39;00m\n",
      "\u001b[0;31mTypeError\u001b[0m: int() argument must be a string, a bytes-like object or a real number, not 'Results'"
     ]
    }
   ],
   "source": [
    "# Iterate through each image in the source directory\n",
    "for img_path in source.glob(\"*.jpg\"):\n",
    "    # Read the image\n",
    "    img = cv2.imread(str(img_path))\n",
    "    \n",
    "    # Perform detection\n",
    "    results = model(img)\n",
    "    \n",
    "    # Plot the bounding boxes on the image\n",
    "    for detection in results[0].boxes:\n",
    "        # Each detection contains x1, y1, x2, y2, confidence, and class\n",
    "        x1, y1, x2, y2, conf, cls = (*detection.xyxy, detection.conf, detection.cls)\n",
    "        label = f\"{model.names[cls]}: {conf:.2f}\"\n",
    "        \n",
    "        # Draw bounding box\n",
    "        cv2.rectangle(img, (x1, y1), (x2, y2), (0, 255, 0), 2)\n",
    "        # Put label above the box\n",
    "        cv2.putText(img, label, (x1, y1 - 10), cv2.FONT_HERSHEY_SIMPLEX, 0.5, (0, 255, 0), 2)\n",
    "    \n",
    "    # Save the annotated image to the output directory\n",
    "    output_path = output / img_path.name\n",
    "    cv2.imwrite(str(output_path), img)\n",
    "    print(f\"Saved annotated image to {output_path}\")\n",
    "\n",
    "print(\"Processing complete!\")"
   ]
  }
 ],
 "metadata": {
  "kernelspec": {
   "display_name": "Python 3",
   "language": "python",
   "name": "python3"
  },
  "language_info": {
   "codemirror_mode": {
    "name": "ipython",
    "version": 3
   },
   "file_extension": ".py",
   "mimetype": "text/x-python",
   "name": "python",
   "nbconvert_exporter": "python",
   "pygments_lexer": "ipython3",
   "version": "3.10.12"
  }
 },
 "nbformat": 4,
 "nbformat_minor": 2
}
