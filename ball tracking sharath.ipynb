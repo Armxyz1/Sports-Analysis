{
 "cells": [
  {
   "cell_type": "code",
   "execution_count": 1,
   "metadata": {},
   "outputs": [],
   "source": [
    "import numpy as np\n",
    "import cv2\n",
    "import matplotlib.pyplot as plt\n",
    "from pathlib import Path\n",
    "from ultralytics import YOLO"
   ]
  },
  {
   "cell_type": "markdown",
   "metadata": {},
   "source": [
    "## Download the dataset\n",
    "We will be using the soccernet dataset on tracking. For more details visit: https://github.com/SoccerNet/sn-tracking?tab=readme-ov-file"
   ]
  },
  {
   "cell_type": "code",
   "execution_count": null,
   "metadata": {},
   "outputs": [
    {
     "name": "stderr",
     "output_type": "stream",
     "text": [
      "/home/ssharath/miniconda3/envs/proj/lib/python3.12/site-packages/tqdm/auto.py:21: TqdmWarning: IProgress not found. Please update jupyter and ipywidgets. See https://ipywidgets.readthedocs.io/en/stable/user_install.html\n",
      "  from .autonotebook import tqdm as notebook_tqdm\n",
      "Downloading datasets/soccernet23/tracking/train.zip...: : 9.58GiB [39:11, 4.07MiB/s]                           \n",
      "Downloading datasets/soccernet23/tracking/test.zip...: : 8.71GiB [34:24, 4.22MiB/s]                           \n"
     ]
    }
   ],
   "source": [
    "# from SoccerNet.Downloader import SoccerNetDownloader;\n",
    "# mySoccerNetDownloader = SoccerNetDownloader(LocalDirectory=\"datasets/soccernet23\");\n",
    "# mySoccerNetDownloader.downloadDataTask(task=\"tracking\", split=[\"train\", \"test\"]);"
   ]
  },
  {
   "cell_type": "code",
   "execution_count": 4,
   "metadata": {},
   "outputs": [
    {
     "name": "stdout",
     "output_type": "stream",
     "text": [
      "Downloading https://github.com/ultralytics/assets/releases/download/v8.3.0/yolov10n.pt to 'models/yolov10n.pt'...\n"
     ]
    },
    {
     "name": "stderr",
     "output_type": "stream",
     "text": [
      "100%|██████████| 5.59M/5.59M [00:00<00:00, 33.9MB/s]\n"
     ]
    }
   ],
   "source": [
    "model = YOLO(\"models/yolov10n.pt\")"
   ]
  },
  {
   "cell_type": "code",
   "execution_count": null,
   "metadata": {},
   "outputs": [],
   "source": [
    "## Source\n",
    "## The source is the path to the folder containing frames(photos) of the video. \n",
    "## So, Each folder\n",
    "## folder -> SNMOT-X --> img1 --> x.jpg is the format of the folder\n",
    "\n",
    "source = Path(\"/home/sahilc/Desktop/Soccer Analysis Project/train/SNMOT-060/img1\")\n",
    "output = Path(\"/home/sahilc/Desktop/Soccer Analysis Project/train_output/SNMOT-060\")\n",
    "output.mkdir(exist_ok=True)\n",
    "\n"
   ]
  },
  {
   "cell_type": "code",
   "execution_count": null,
   "metadata": {},
   "outputs": [],
   "source": [
    "result = model(\"/home/sahilc/Desktop/Soccer Analysis Project/train/SNMOT-169/img1/000001.jpg\")\n",
    "result[0].show()"
   ]
  },
  {
   "cell_type": "code",
   "execution_count": null,
   "metadata": {},
   "outputs": [],
   "source": [
    "# Iterate through each image in the source directory\n",
    "for img_path in source.glob(\"*.jpg\"):\n",
    "    # Read the image\n",
    "    img = cv2.imread(str(img_path))\n",
    "    \n",
    "    # Perform detection\n",
    "    results = model(img)\n",
    "    \n",
    "    # Plot the bounding boxes on the image\n",
    "    for detection in results[0].boxes:\n",
    "        # Each detection contains x1, y1, x2, y2, confidence, and class\n",
    "        x1, y1, x2, y2, conf, cls = (*detection.xyxy, detection.conf, detection.cls)\n",
    "        label = f\"{model.names[cls]}: {conf:.2f}\"\n",
    "        \n",
    "        # Draw bounding box\n",
    "        cv2.rectangle(img, (x1, y1), (x2, y2), (0, 255, 0), 2)\n",
    "        # Put label above the box\n",
    "        cv2.putText(img, label, (x1, y1 - 10), cv2.FONT_HERSHEY_SIMPLEX, 0.5, (0, 255, 0), 2)\n",
    "    \n",
    "    # Save the annotated image to the output directory\n",
    "    output_path = output / img_path.name\n",
    "    cv2.imwrite(str(output_path), img)\n",
    "    print(f\"Saved annotated image to {output_path}\")\n",
    "\n",
    "print(\"Processing complete!\")"
   ]
  }
 ],
 "metadata": {
  "kernelspec": {
   "display_name": "proj",
   "language": "python",
   "name": "python3"
  },
  "language_info": {
   "codemirror_mode": {
    "name": "ipython",
    "version": 3
   },
   "file_extension": ".py",
   "mimetype": "text/x-python",
   "name": "python",
   "nbconvert_exporter": "python",
   "pygments_lexer": "ipython3",
   "version": "3.12.7"
  }
 },
 "nbformat": 4,
 "nbformat_minor": 2
}
