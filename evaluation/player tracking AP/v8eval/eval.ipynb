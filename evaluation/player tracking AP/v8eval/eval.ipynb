{
 "cells": [
  {
   "cell_type": "code",
   "execution_count": 1,
   "metadata": {},
   "outputs": [],
   "source": [
    "import os\n",
    "import shutil\n",
    "import pickle\n",
    "import numpy as np\n",
    "from tqdm import tqdm"
   ]
  },
  {
   "cell_type": "code",
   "execution_count": 2,
   "metadata": {},
   "outputs": [],
   "source": [
    "def convert(box):\n",
    "    x, y, w, h = box\n",
    "    bbox = [x, y, x + w, y + h]\n",
    "\n",
    "    return bbox\n",
    "\n",
    "def make_labels(clip_path):\n",
    "    label_path = f'{clip_path}/labels'\n",
    "\n",
    "    if os.path.exists(label_path):\n",
    "        shutil.rmtree(label_path)\n",
    "    os.makedirs(label_path)\n",
    "\n",
    "    ball_ids = []\n",
    "    goalkeeper_ids = []\n",
    "    referee_ids = []\n",
    "\n",
    "    with open(f'{clip_path}/gameinfo.ini', 'r') as file:\n",
    "        data = file.readlines()\n",
    "        for line in data:\n",
    "            if 'ball' in line:\n",
    "                ball_ids.append(eval(line.split('=')[0].split('_')[1]))\n",
    "            if 'goalkeeper' in line:\n",
    "                goalkeeper_ids.append(eval(line.split('=')[0].split('_')[1]))\n",
    "            if 'referee' in line:\n",
    "                referee_ids.append(eval(line.split('=')[0].split('_')[1]))\n",
    "            \n",
    "    with open(f'{clip_path}/gt/gt.txt', 'r') as file:\n",
    "        data = file.readlines()\n",
    "        for line in data:\n",
    "            line = [eval(i) for i in line.split(',')]\n",
    "            bbox = convert(line[2:6])\n",
    "\n",
    "            class_id = 2\n",
    "            if line[1] in ball_ids:\n",
    "                class_id = 0\n",
    "            elif line[1] in goalkeeper_ids:\n",
    "                class_id = 1\n",
    "            elif line[1] in referee_ids:\n",
    "                class_id = 3\n",
    "\n",
    "            with open(\n",
    "                f'{label_path}/{line[0]}.txt', 'a'\n",
    "            ) as f:\n",
    "                f.write(f'{class_id} {' '.join([str(i) for i in bbox])}\\n')"
   ]
  },
  {
   "cell_type": "code",
   "execution_count": 3,
   "metadata": {},
   "outputs": [],
   "source": [
    "def iou(box1, box2):\n",
    "    x1, y1, x2, y2 = box1\n",
    "    x3, y3, x4, y4 = box2\n",
    "    \n",
    "    x5, y5, x6, y6 = max(x1, x3), max(y1, y3), min(x2, x4), min(y2, y4)\n",
    "    if x5 >= x6 or y5 >= y6:\n",
    "        return 0\n",
    "    \n",
    "    intersection = (x6 - x5) * (y6 - y5)\n",
    "    union = (x2 - x1) * (y2 - y1) + (x4 - x3) * (y4 - y3) - intersection\n",
    "    \n",
    "    return intersection / union\n",
    "\n",
    "def mAP(pkl_path, label_path, iou_threshold=0.5):\n",
    "    with open(pkl_path, 'rb') as file:\n",
    "        detections, _ = pickle.load(file)\n",
    "    \n",
    "    aps = []\n",
    "    for class_id in range(4):\n",
    "        tp = []\n",
    "        fp = []\n",
    "        scores = []\n",
    "        num_annotations = 0\n",
    "\n",
    "        for i, det in enumerate(detections):\n",
    "            det = det[det.class_id == class_id]\n",
    "\n",
    "            labels = []\n",
    "            with open(f'{label_path}/{i + 1}.txt', 'r') as f:\n",
    "                data = f.readlines()\n",
    "\n",
    "                for line in data:\n",
    "                    line = line.split(' ')\n",
    "\n",
    "                    if eval(line[0]) == class_id:\n",
    "                        bbox = [eval(i) for i in line[1:]]\n",
    "                        labels.append(bbox)\n",
    "            \n",
    "            if len(labels) == 0:\n",
    "                continue\n",
    "\n",
    "            num_annotations += len(labels)\n",
    "\n",
    "            ious = []\n",
    "            for box in det.xyxy:\n",
    "                ious.append(max([iou(box, label) for label in labels]))\n",
    "            \n",
    "            for j, box in enumerate(det):\n",
    "                scores.append(det.confidence[j])\n",
    "                if ious[j] > iou_threshold:\n",
    "                    tp.append(1)\n",
    "                    fp.append(0)\n",
    "                else:\n",
    "                    tp.append(0)\n",
    "                    fp.append(1)\n",
    "\n",
    "        if num_annotations == 0:\n",
    "            aps.append(0)\n",
    "            continue\n",
    "\n",
    "        tp = np.array(tp)\n",
    "        fp = np.array(fp)\n",
    "        scores = np.array(scores)\n",
    "\n",
    "        indices = np.argsort(-scores)\n",
    "        tp = tp[indices]\n",
    "        fp = fp[indices]\n",
    "\n",
    "        tp = np.cumsum(tp)\n",
    "        fp = np.cumsum(fp)\n",
    "\n",
    "        recalls = tp / num_annotations\n",
    "        precisions = tp / (tp + fp)\n",
    "\n",
    "        recalls = np.concatenate(([0.0], recalls, [1.0]))\n",
    "        precisions = np.concatenate(([0.0], precisions, [0.0]))\n",
    "\n",
    "        for i in range(precisions.size - 1, 0, -1):\n",
    "            precisions[i - 1] = np.maximum(precisions[i - 1], precisions[i])\n",
    "\n",
    "        indices = np.where(recalls[1:] != recalls[:-1])[0]\n",
    "        ap = np.sum((recalls[indices + 1] - recalls[indices]) * precisions[indices + 1])\n",
    "        aps.append(ap)\n",
    "\n",
    "    return aps"
   ]
  },
  {
   "cell_type": "code",
   "execution_count": 4,
   "metadata": {},
   "outputs": [
    {
     "name": "stderr",
     "output_type": "stream",
     "text": [
      "100%|██████████| 49/49 [00:22<00:00,  2.22it/s]\n"
     ]
    }
   ],
   "source": [
    "clips = os.listdir('../SoccerNet/tracking-2023/test')\n",
    "\n",
    "for clip in tqdm(clips):\n",
    "    make_labels(f'../SoccerNet/tracking-2023/test/{clip}')"
   ]
  },
  {
   "cell_type": "code",
   "execution_count": 5,
   "metadata": {},
   "outputs": [
    {
     "name": "stdout",
     "output_type": "stream",
     "text": [
      "Threshold: 0.5\n"
     ]
    },
    {
     "name": "stderr",
     "output_type": "stream",
     "text": [
      "100%|██████████| 49/49 [00:54<00:00,  1.11s/it]\n"
     ]
    },
    {
     "name": "stdout",
     "output_type": "stream",
     "text": [
      "mAP: 0.7941123952397134\n",
      "\n",
      "Threshold: 0.75\n"
     ]
    },
    {
     "name": "stderr",
     "output_type": "stream",
     "text": [
      "100%|██████████| 49/49 [00:52<00:00,  1.07s/it]\n"
     ]
    },
    {
     "name": "stdout",
     "output_type": "stream",
     "text": [
      "mAP: 0.39818681369483216\n",
      "\n",
      "Threshold: 0.9\n"
     ]
    },
    {
     "name": "stderr",
     "output_type": "stream",
     "text": [
      "100%|██████████| 49/49 [00:51<00:00,  1.06s/it]"
     ]
    },
    {
     "name": "stdout",
     "output_type": "stream",
     "text": [
      "mAP: 0.02801716753262921\n",
      "\n"
     ]
    },
    {
     "name": "stderr",
     "output_type": "stream",
     "text": [
      "\n"
     ]
    }
   ],
   "source": [
    "thresholds = [0.5, 0.75, 0.9]\n",
    "\n",
    "for threshold in thresholds:\n",
    "    print(f'Threshold: {threshold}')\n",
    "    map_avg = 0\n",
    "    for clip in tqdm(clips):\n",
    "        map_avg += mAP(f'../SoccerNet/tracking-2023/test/{clip}/det8_2.pkl', f'../SoccerNet/tracking-2023/test/{clip}/labels', threshold)[2]\n",
    "    print(f'mAP: {map_avg/len(clips)}')\n",
    "    print()"
   ]
  }
 ],
 "metadata": {
  "kernelspec": {
   "display_name": "temp",
   "language": "python",
   "name": "python3"
  },
  "language_info": {
   "codemirror_mode": {
    "name": "ipython",
    "version": 3
   },
   "file_extension": ".py",
   "mimetype": "text/x-python",
   "name": "python",
   "nbconvert_exporter": "python",
   "pygments_lexer": "ipython3",
   "version": "3.12.7"
  }
 },
 "nbformat": 4,
 "nbformat_minor": 2
}
