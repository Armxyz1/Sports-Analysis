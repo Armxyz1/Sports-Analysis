{
 "cells": [
  {
   "cell_type": "code",
   "execution_count": 4,
   "metadata": {},
   "outputs": [],
   "source": [
    "import os\n",
    "from tqdm import tqdm\n",
    "import pickle"
   ]
  },
  {
   "cell_type": "code",
   "execution_count": 5,
   "metadata": {},
   "outputs": [],
   "source": [
    "data_path = \"../SoccerNet/tracking-2023/test\""
   ]
  },
  {
   "cell_type": "code",
   "execution_count": 6,
   "metadata": {},
   "outputs": [
    {
     "name": "stderr",
     "output_type": "stream",
     "text": [
      "100%|██████████| 1/1 [00:00<00:00, 111.15it/s]"
     ]
    },
    {
     "name": "stdout",
     "output_type": "stream",
     "text": [
      "Detections(xyxy=array([[1237.8496  ,  520.65344 , 1291.4307  ,  681.1012  ],\n",
      "       [ 612.7753  ,  333.9733  ,  661.75604 ,  464.61462 ],\n",
      "       [ 760.2994  ,  362.80856 ,  810.2108  ,  496.76166 ],\n",
      "       [  77.780716,  390.38525 ,  141.28653 ,  533.89044 ],\n",
      "       [ 192.11366 ,  307.45087 ,  244.9765  ,  438.3781  ],\n",
      "       [ 503.98032 ,  323.99866 ,  558.8482  ,  448.06494 ],\n",
      "       [1348.6432  ,  256.7514  , 1395.9633  ,  370.57434 ],\n",
      "       [   0.      ,  333.17438 ,   50.08036 ,  470.2404  ],\n",
      "       [1675.5399  ,  723.92944 , 1761.2803  ,  943.83746 ],\n",
      "       [ 394.96683 ,  298.82886 ,  435.19696 ,  421.26978 ],\n",
      "       [ 313.8288  ,  331.05896 ,  358.932   ,  450.67136 ],\n",
      "       [ 757.7755  ,  329.94733 ,  798.78406 ,  452.0326  ],\n",
      "       [ 292.0772  ,  330.70923 ,  331.66364 ,  457.50192 ],\n",
      "       [ 332.64658 ,  295.81253 ,  370.6044  ,  421.654   ],\n",
      "       [ 300.05322 ,  290.63812 ,  338.97968 ,  403.0091  ],\n",
      "       [ 364.63452 ,  287.56647 ,  402.3722  ,  410.79868 ],\n",
      "       [ 375.45    ,  295.8932  ,  413.8396  ,  422.3098  ]],\n",
      "      dtype=float32), mask=None, confidence=array([0.9425049 , 0.938729  , 0.9386147 , 0.9369301 , 0.9291655 ,\n",
      "       0.9213716 , 0.9211392 , 0.90937626, 0.8916471 , 0.8671431 ,\n",
      "       0.86409765, 0.8615705 , 0.80016583, 0.7411877 , 0.7258643 ,\n",
      "       0.57481325, 0.5073566 ], dtype=float32), class_id=array([1, 1, 1, 1, 1, 1, 2, 3, 1, 1, 1, 1, 1, 1, 1, 1, 1]), tracker_id=array([ 1.,  2.,  3.,  4.,  5.,  6.,  7.,  8.,  9., 10., 11., 12., 13.,\n",
      "       14., 15., 16., 17.]), data={'class_name': array(['player', 'player', 'player', 'player', 'player', 'player',\n",
      "       'goalkeeper', 'referee', 'player', 'player', 'player', 'player',\n",
      "       'player', 'player', 'player', 'player', 'player'], dtype='<U32')})\n",
      "Detections(xyxy=array([[1.2377175e+03, 5.2121075e+02, 1.2919709e+03, 6.8070312e+02],\n",
      "       [2.8946918e+02, 4.0282214e+02, 3.1990717e+02, 4.6026160e+02],\n",
      "       [1.0980320e-01, 3.3376950e+02, 4.5512360e+01, 4.6898053e+02],\n",
      "       [3.1411038e+02, 3.7256937e+02, 3.5915067e+02, 4.4892371e+02],\n",
      "       [7.6066882e+02, 3.3161652e+02, 7.9097388e+02, 3.9275363e+02],\n",
      "       [1.6789091e+03, 7.3768652e+02, 1.7564227e+03, 9.4429962e+02],\n",
      "       [6.1494141e+02, 3.7191998e+02, 6.6193524e+02, 4.6509631e+02],\n",
      "       [5.0591687e+02, 3.6180093e+02, 5.5585242e+02, 4.4785318e+02],\n",
      "       [7.6350745e+02, 3.9774542e+02, 8.0641541e+02, 4.9781006e+02],\n",
      "       [1.2491082e+03, 8.5738879e+02, 1.2927869e+03, 8.9472217e+02],\n",
      "       [1.9388257e+02, 3.4062381e+02, 2.3901904e+02, 4.3754333e+02],\n",
      "       [8.0213371e+01, 3.9348846e+02, 1.3520284e+02, 5.3459796e+02],\n",
      "       [1.3676284e+03, 3.2433722e+02, 1.3915369e+03, 3.7351437e+02],\n",
      "       [1.6759156e+03, 8.6024890e+02, 1.7359706e+03, 9.4481396e+02]],\n",
      "      dtype=float32), mask=None, confidence=array([0.8426169 , 0.739847  , 0.69922215, 0.6681734 , 0.65195954,\n",
      "       0.6294314 , 0.6133602 , 0.5907856 , 0.5332325 , 0.5204694 ,\n",
      "       0.50863224, 0.49755216, 0.38572058, 0.35844174], dtype=float32), class_id=array([2, 2, 3, 2, 2, 2, 2, 2, 2, 2, 2, 2, 1, 2]), tracker_id=array([ 1,  2,  3,  4,  5,  6,  7,  8,  9, 10, 11, 12, 13, 14]), data={'class_name': array(['player', 'player', 'referee', 'player', 'player', 'player',\n",
      "       'player', 'player', 'player', 'player', 'player', 'player',\n",
      "       'goalkeeper', 'player'], dtype='<U10')})\n"
     ]
    },
    {
     "name": "stderr",
     "output_type": "stream",
     "text": [
      "\n"
     ]
    }
   ],
   "source": [
    "for file in tqdm(os.listdir(data_path)[:1]):\n",
    "    with open(f\"{data_path}/{file}/det.pkl\", \"rb\") as f:\n",
    "        data = pickle.load(f)\n",
    "        print(data[0][0])\n",
    "\n",
    "    with open(f\"{data_path}/{file}/det8.pkl\", \"rb\") as f:\n",
    "        data = pickle.load(f)\n",
    "        print(data[0][0])"
   ]
  }
 ],
 "metadata": {
  "kernelspec": {
   "display_name": "temp",
   "language": "python",
   "name": "python3"
  },
  "language_info": {
   "codemirror_mode": {
    "name": "ipython",
    "version": 3
   },
   "file_extension": ".py",
   "mimetype": "text/x-python",
   "name": "python",
   "nbconvert_exporter": "python",
   "pygments_lexer": "ipython3",
   "version": "3.12.7"
  }
 },
 "nbformat": 4,
 "nbformat_minor": 2
}
